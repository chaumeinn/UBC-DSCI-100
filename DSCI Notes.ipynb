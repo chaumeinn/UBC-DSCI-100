{
 "cells": [
  {
   "cell_type": "markdown",
   "id": "9916d74f-2c2b-409d-85d3-a2dbbf3ebeb1",
   "metadata": {},
   "source": [
    "# DSCI 100 010 NOTES\n"
   ]
  },
  {
   "cell_type": "markdown",
   "id": "668bbe2c-208d-4053-856c-4b8dccac352d",
   "metadata": {},
   "source": [
    "## Lecture 1: LC Introduction"
   ]
  },
  {
   "cell_type": "markdown",
   "id": "7a508947-3007-42a7-bf22-033717e01846",
   "metadata": {},
   "source": [
    "### R Programming Language:  \n",
    "\n",
    "&nbsp; &nbsp; &nbsp; &nbsp; &nbsp; &nbsp;&nbsp; &nbsp; &nbsp; &nbsp; &nbsp; &nbsp;*!!Facts to be checked!!* Format of the facts to be checked\n",
    "<br>***General:***\n",
    "<br>&nbsp;&nbsp;R programming language allows for UPPER and lowercase letters (noted as separate values), underscores, dots, and *!!numbers?!!*\n",
    "<br>&nbsp; &nbsp; &nbsp; &nbsp; **!=** #Not equal to\n",
    "<br>&nbsp; &nbsp; &nbsp; &nbsp; **>=**\n",
    "<br>&nbsp; &nbsp; &nbsp; &nbsp; **|** #Or function\n",
    "<br>&nbsp; &nbsp; &nbsp; &nbsp; **&** #And function\n",
    "\n",
    "col_double - number-type, real numbers, can contain decimals\n",
    "col_integer - number-type, (whole numbers)\n",
    "col_character - text\n",
    "<br>***Labelling:*** \n",
    "<br>&nbsp; &nbsp; &nbsp; &nbsp;***object_name*** <- associated value #Names are generally written in all lowercase with underscores \n",
    "<br>&nbsp; &nbsp; &nbsp; &nbsp; &nbsp; &nbsp; Commenting: #use hashtag to make comments within code"
   ]
  },
  {
   "cell_type": "markdown",
   "id": "10a11461-e030-4f31-9fc2-cd35400a0dcf",
   "metadata": {},
   "source": [
    "#### ***Calling & General Functions:*** "
   ]
  },
  {
   "cell_type": "markdown",
   "id": "1a0450aa-33d7-49cf-b4e8-8b7a16449c48",
   "metadata": {},
   "source": [
    "   &nbsp; &nbsp; &nbsp; &nbsp;***read_csv(\"file_name.csv\")*** #Loads data file into R  *!!Not sure if this is a general R function or if its specific to Tidyverse!!*\n",
    "<br> &nbsp; &nbsp; &nbsp; &nbsp;***print(\" \")***     #You know what this does \n",
    "<br> &nbsp; &nbsp; &nbsp; &nbsp;***toupper()***      #converts all text to \n",
    "<br> &nbsp; &nbsp; &nbsp; &nbsp;***tolower()***      #converts all text to lowercase \n",
    "<br> &nbsp; &nbsp; &nbsp; &nbsp;***library(\"package name\")*** #Use library function to load/use any downloaded packages \n",
    "<br> &nbsp; &nbsp; &nbsp; &nbsp;***max() & min()*** #given numbers, will find either the maximum number or minimum number and express it\n",
    "<br> &nbsp; &nbsp; &nbsp; &nbsp;***nrow(X) & ncol(X)*** #gives you the number of rows/columns\n",
    "<br> &nbsp; &nbsp; &nbsp; &nbsp;***?function_name()*** #gives you information on the given function like how to **format(usage)**, **Arguments**(Where you can use the function & what modifications can be made, and **examples** (usage in conjunction w/ raw data)"
   ]
  },
  {
   "cell_type": "markdown",
   "id": "fe101a1b-8ccf-4392-85a4-8cc2fa6732db",
   "metadata": {},
   "source": [
    "#### ***Tidyverse Functions***"
   ]
  },
  {
   "cell_type": "markdown",
   "id": "78ebc887-9f72-48b2-8498-a7614284ac65",
   "metadata": {},
   "source": [
    "&nbsp; &nbsp; &nbsp; &nbsp;***filter(data set, colour == 'blue' )*** #Column-specific for **col_character** ; looks within provided column to filter data set to only include data that meet specified requirements\n",
    "<br>&nbsp; &nbsp; &nbsp; &nbsp;***filter(data set, column_to_filter != 100)*** #filters a data set to **exclude** all values in **column_to_filter** that are == 100\n",
    "<br>&nbsp; &nbsp; &nbsp; &nbsp;***filter(data set, !is.na(column_to_filter))*** # is.na finds values in selected column that are missing, therefore, **!is.na(column_to_filter)** would select info that is **not missing** \n",
    "<br>&nbsp; &nbsp; &nbsp; &nbsp;***select(dataset, column A, column B)*** #limits the columns shown to only those listed within function \n",
    "<br>&nbsp; &nbsp; &nbsp; &nbsp;***modified_dataset <- mutate(dataset, new.column = existing.column / 10 )*** #Adds an additional column into the dataset based on existing column\n",
    "<br>&nbsp; &nbsp; &nbsp; &nbsp;***pivot_longer(data_set, cols = ColumnA:ColumnC, names_to = \"LabelA\", values_to = \"LabelB\")*** #This function allows for data from a wider format to be translated into a more typical, longer, format. **cols =** chooses the columns in question that you would like to convert, **names_to** then takes all the original column names, and forms a new column **\"LabelA\"**. **values_to =** takes all the values under and places them into the same row as the original value under a column: **\"LabelB\"**\n",
    "<br>&nbsp; &nbsp; &nbsp; &nbsp;***pivot_wider(data_set, names_from = type, values_from = count)*** **SEE 3.4.2**\n",
    "<br>&nbsp; &nbsp; &nbsp; &nbsp;***c()***\n",
    "<br>&nbsp; &nbsp; &nbsp; &nbsp;***group_by()*** #allows you to apply function(s) to groups of rows"
   ]
  },
  {
   "cell_type": "markdown",
   "id": "d0bafb58-a7ae-4f2b-b832-6c2e68c01e23",
   "metadata": {},
   "source": [
    "#### ***Graphing***"
   ]
  },
  {
   "cell_type": "markdown",
   "id": "ee9300cc-fc1e-4ec0-a43b-382c693c01cb",
   "metadata": {},
   "source": [
    "#### ***Data Types***"
   ]
  },
  {
   "cell_type": "markdown",
   "id": "6164cca6-8486-46f2-ac95-bfe102a3a19d",
   "metadata": {},
   "source": [
    "character, dbl, int, lgl, fct"
   ]
  },
  {
   "cell_type": "markdown",
   "id": "baaaef44-b7d5-43f4-a77a-305ee88d59d1",
   "metadata": {},
   "source": [
    "##### ***When to Use Each Graph***"
   ]
  },
  {
   "cell_type": "markdown",
   "id": "823f2617-bade-40df-85a6-c3e97cbafe33",
   "metadata": {},
   "source": [
    "&nbsp; &nbsp; &nbsp; &nbsp;***geom_histogram:*** Visualizing the **distribution** of data in **one dimension** <br>\n",
    "\n",
    "&nbsp; &nbsp; &nbsp; &nbsp;***geom_hline:*** Drawing a straight, **horizontal line** at a specified position on the **y-axis** <br> \n",
    "\n",
    "&nbsp; &nbsp; &nbsp; &nbsp;***geom_point:*** Visualizing the relationship between **two variables** in **two dimensions** <br>\n",
    "\n",
    "&nbsp; &nbsp; &nbsp; &nbsp;***geom_line:*** Showing a **trend** with respect to an **independent quantity** <br>\n",
    "\n",
    "&nbsp; &nbsp; &nbsp; &nbsp;***geom_vline:*** Draws a **vertical line**, given position **on x** <br>\n",
    "\n",
    "&nbsp; &nbsp; &nbsp; &nbsp;***geom_bar:*** Comparing amounts <br>"
   ]
  },
  {
   "cell_type": "markdown",
   "id": "9f0c3939-48e8-4a39-bea8-25188c3ccacd",
   "metadata": {},
   "source": [
    "##### ***Formatting Graphs:***"
   ]
  },
  {
   "cell_type": "markdown",
   "id": "8406a451-e80c-4093-b275-86c5eb9aea37",
   "metadata": {},
   "source": [
    "&nbsp; &nbsp; &nbsp; &nbsp; ***theme(text = element_text(size=20))*** # changes text size \n",
    "<br>&nbsp; &nbsp; &nbsp; &nbsp; ***options(repr.plot.width = 8, repr.plot.height = 6)*** # changes width and height of graph"
   ]
  },
  {
   "cell_type": "markdown",
   "id": "4757b117-1c2d-435e-abad-077ed35e51cc",
   "metadata": {},
   "source": [
    "##### ***Comparing Graphs***"
   ]
  },
  {
   "cell_type": "markdown",
   "id": "d2ec6656-4af3-4903-9b26-2c0f1f269ecc",
   "metadata": {},
   "source": [
    "&nbsp; &nbsp; &nbsp; &nbsp; ***facet_grid(cols = vars(COLUMN_X))*** #Stacks plots horizontally with one column per member of the category in COLUMN_X\n",
    "<br>&nbsp; &nbsp; &nbsp; &nbsp; ***facet_grid(rows = vars(COLUMN_X))*** #Stacks plots vertically with one row per member of the category in COLUMN_X"
   ]
  },
  {
   "cell_type": "markdown",
   "id": "4aaf552a-45e2-497d-8025-b22b4f9c9954",
   "metadata": {},
   "source": [
    "## Lecture 2"
   ]
  },
  {
   "cell_type": "markdown",
   "id": "43a9fa9a-667c-438a-91f9-76d20e8e4d6a",
   "metadata": {},
   "source": [
    "R/ Python: more customizable <br> **Datascience workflow** <br> Import>Tidy>(Transform>Visualize>Model)>communicate<br>\n",
    "\n",
    "***absolute path*** Locates a file with respect to the \"root\" folder on a computer *starts with /* <br>\n",
    "**e.g. home/instructor/documents/timesheet.xlsx** <br>\n",
    "***relative path*** locates a file relative to your working directory *doesn't start with /* <br>\n",
    "***e.g. documents/timesheet.xlsx*** where working directory is home/instructor/ <br>\n"
   ]
  },
  {
   "cell_type": "markdown",
   "id": "3fd23ca2-ea2b-4417-b8b8-1f19cac04c05",
   "metadata": {},
   "source": [
    "## Questions"
   ]
  },
  {
   "cell_type": "markdown",
   "id": "62508120-4759-40eb-ad89-659495983700",
   "metadata": {},
   "source": [
    "## WRT Worksheet_reading Q3.6.4: why does making the skip function equal to 2 or 3 result in the same chart being displayed?"
   ]
  },
  {
   "cell_type": "markdown",
   "id": "18a93707-0f35-44d9-b9be-cbef18491dca",
   "metadata": {},
   "source": [
    "Tutorial"
   ]
  },
  {
   "cell_type": "markdown",
   "id": "4aa2b0b8-67af-45b8-be60-526769bcc6a0",
   "metadata": {},
   "source": [
    "## Lecture 4"
   ]
  },
  {
   "cell_type": "code",
   "execution_count": null,
   "id": "4c89551d-fdd1-496a-88fc-5e2d27f2adc7",
   "metadata": {},
   "outputs": [],
   "source": []
  }
 ],
 "metadata": {
  "kernelspec": {
   "display_name": "R",
   "language": "R",
   "name": "ir"
  },
  "language_info": {
   "codemirror_mode": "r",
   "file_extension": ".r",
   "mimetype": "text/x-r-source",
   "name": "R",
   "pygments_lexer": "r",
   "version": "4.3.3"
  }
 },
 "nbformat": 4,
 "nbformat_minor": 5
}
